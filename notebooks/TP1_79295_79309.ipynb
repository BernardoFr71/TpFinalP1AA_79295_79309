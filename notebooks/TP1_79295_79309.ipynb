{
 "cells": [
  {
   "cell_type": "code",
   "execution_count": 1,
   "id": "804369be",
   "metadata": {},
   "outputs": [
    {
     "name": "stdout",
     "output_type": "stream",
     "text": [
      "Train shape: (188533, 13)\n",
      "\n",
      "Primeiras linhas do conjunto de treino:\n",
      "   id          brand              model  model_year  milage      fuel_type  \\\n",
      "0   0           MINI      Cooper S Base        2007  213000       Gasoline   \n",
      "1   1        Lincoln              LS V8        2002  143250       Gasoline   \n",
      "2   2      Chevrolet  Silverado 2500 LT        2002  136731  E85 Flex Fuel   \n",
      "3   3        Genesis   G90 5.0 Ultimate        2017   19500       Gasoline   \n",
      "4   4  Mercedes-Benz        Metris Base        2021    7388       Gasoline   \n",
      "\n",
      "                                              engine  \\\n",
      "0       172.0HP 1.6L 4 Cylinder Engine Gasoline Fuel   \n",
      "1       252.0HP 3.9L 8 Cylinder Engine Gasoline Fuel   \n",
      "2  320.0HP 5.3L 8 Cylinder Engine Flex Fuel Capab...   \n",
      "3       420.0HP 5.0L 8 Cylinder Engine Gasoline Fuel   \n",
      "4       208.0HP 2.0L 4 Cylinder Engine Gasoline Fuel   \n",
      "\n",
      "                     transmission ext_col int_col  \\\n",
      "0                             A/T  Yellow    Gray   \n",
      "1                             A/T  Silver   Beige   \n",
      "2                             A/T    Blue    Gray   \n",
      "3  Transmission w/Dual Shift Mode   Black   Black   \n",
      "4                     7-Speed A/T   Black   Beige   \n",
      "\n",
      "                                 accident clean_title  price  \n",
      "0                           None reported         Yes   4200  \n",
      "1  At least 1 accident or damage reported         Yes   4999  \n",
      "2                           None reported         Yes  13900  \n",
      "3                           None reported         Yes  45000  \n",
      "4                           None reported         Yes  97500  \n"
     ]
    }
   ],
   "source": [
    "import pandas as pd\n",
    "import numpy as np\n",
    "import statsmodels.api as sm\n",
    "import torch\n",
    "import torch.nn as nn\n",
    "import torch.optim as optim\n",
    "from torch.utils.data import Dataset, DataLoader\n",
    "\n",
    "# Carregando os arquivos\n",
    "df_train = pd.read_csv('../data/train.csv')\n",
    "df_test = pd.read_csv('../data/test.csv')\n",
    "df_submission = pd.read_csv('../data/sample_submission.csv')\n",
    "\n",
    "print(\"Train shape:\", df_train.shape)\n",
    "print(\"\\nPrimeiras linhas do conjunto de treino:\")\n",
    "print(df_train.head())"
   ]
  }
 ],
 "metadata": {
  "kernelspec": {
   "display_name": "Python 3",
   "language": "python",
   "name": "python3"
  },
  "language_info": {
   "codemirror_mode": {
    "name": "ipython",
    "version": 3
   },
   "file_extension": ".py",
   "mimetype": "text/x-python",
   "name": "python",
   "nbconvert_exporter": "python",
   "pygments_lexer": "ipython3",
   "version": "3.13.7"
  }
 },
 "nbformat": 4,
 "nbformat_minor": 5
}
